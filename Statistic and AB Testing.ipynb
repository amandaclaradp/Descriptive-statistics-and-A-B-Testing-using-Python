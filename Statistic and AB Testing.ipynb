{
 "cells": [
  {
   "cell_type": "markdown",
   "id": "eeee879c-0456-426d-8b87-08bbacc0d75e",
   "metadata": {},
   "source": [
    "# STATISTICS AND A/B TESTING"
   ]
  },
  {
   "cell_type": "code",
   "execution_count": 46,
   "id": "886ac9f7-be1a-4e98-8423-05ebb8a54e50",
   "metadata": {},
   "outputs": [],
   "source": [
    "# import library\n",
    "\n",
    "import pandas as pd\n",
    "import numpy as np\n",
    "import matplotlib\n",
    "import matplotlib.pyplot as plt\n",
    "import seaborn as sns\n",
    "import scipy.stats as st\n",
    "import statistics as stat"
   ]
  },
  {
   "cell_type": "code",
   "execution_count": 47,
   "id": "fc01abe6-588c-4f32-bd91-640d17bfbffa",
   "metadata": {},
   "outputs": [
    {
     "data": {
      "text/html": [
       "<div>\n",
       "<style scoped>\n",
       "    .dataframe tbody tr th:only-of-type {\n",
       "        vertical-align: middle;\n",
       "    }\n",
       "\n",
       "    .dataframe tbody tr th {\n",
       "        vertical-align: top;\n",
       "    }\n",
       "\n",
       "    .dataframe thead th {\n",
       "        text-align: right;\n",
       "    }\n",
       "</style>\n",
       "<table border=\"1\" class=\"dataframe\">\n",
       "  <thead>\n",
       "    <tr style=\"text-align: right;\">\n",
       "      <th></th>\n",
       "      <th>Id</th>\n",
       "      <th>MSSubClass</th>\n",
       "      <th>MSZoning</th>\n",
       "      <th>LotFrontage</th>\n",
       "      <th>LotArea</th>\n",
       "      <th>Street</th>\n",
       "      <th>Alley</th>\n",
       "      <th>LotShape</th>\n",
       "      <th>LandContour</th>\n",
       "      <th>Utilities</th>\n",
       "      <th>...</th>\n",
       "      <th>PoolArea</th>\n",
       "      <th>PoolQC</th>\n",
       "      <th>Fence</th>\n",
       "      <th>MiscFeature</th>\n",
       "      <th>MiscVal</th>\n",
       "      <th>MoSold</th>\n",
       "      <th>YrSold</th>\n",
       "      <th>SaleType</th>\n",
       "      <th>SaleCondition</th>\n",
       "      <th>SalePrice</th>\n",
       "    </tr>\n",
       "  </thead>\n",
       "  <tbody>\n",
       "    <tr>\n",
       "      <th>0</th>\n",
       "      <td>1</td>\n",
       "      <td>60</td>\n",
       "      <td>RL</td>\n",
       "      <td>65.0</td>\n",
       "      <td>8450</td>\n",
       "      <td>Pave</td>\n",
       "      <td>NaN</td>\n",
       "      <td>Reg</td>\n",
       "      <td>Lvl</td>\n",
       "      <td>AllPub</td>\n",
       "      <td>...</td>\n",
       "      <td>0</td>\n",
       "      <td>NaN</td>\n",
       "      <td>NaN</td>\n",
       "      <td>NaN</td>\n",
       "      <td>0</td>\n",
       "      <td>2</td>\n",
       "      <td>2008</td>\n",
       "      <td>WD</td>\n",
       "      <td>Normal</td>\n",
       "      <td>208500</td>\n",
       "    </tr>\n",
       "    <tr>\n",
       "      <th>1</th>\n",
       "      <td>2</td>\n",
       "      <td>20</td>\n",
       "      <td>RL</td>\n",
       "      <td>80.0</td>\n",
       "      <td>9600</td>\n",
       "      <td>Pave</td>\n",
       "      <td>NaN</td>\n",
       "      <td>Reg</td>\n",
       "      <td>Lvl</td>\n",
       "      <td>AllPub</td>\n",
       "      <td>...</td>\n",
       "      <td>0</td>\n",
       "      <td>NaN</td>\n",
       "      <td>NaN</td>\n",
       "      <td>NaN</td>\n",
       "      <td>0</td>\n",
       "      <td>5</td>\n",
       "      <td>2007</td>\n",
       "      <td>WD</td>\n",
       "      <td>Normal</td>\n",
       "      <td>181500</td>\n",
       "    </tr>\n",
       "    <tr>\n",
       "      <th>2</th>\n",
       "      <td>3</td>\n",
       "      <td>60</td>\n",
       "      <td>RL</td>\n",
       "      <td>68.0</td>\n",
       "      <td>11250</td>\n",
       "      <td>Pave</td>\n",
       "      <td>NaN</td>\n",
       "      <td>IR1</td>\n",
       "      <td>Lvl</td>\n",
       "      <td>AllPub</td>\n",
       "      <td>...</td>\n",
       "      <td>0</td>\n",
       "      <td>NaN</td>\n",
       "      <td>NaN</td>\n",
       "      <td>NaN</td>\n",
       "      <td>0</td>\n",
       "      <td>9</td>\n",
       "      <td>2008</td>\n",
       "      <td>WD</td>\n",
       "      <td>Normal</td>\n",
       "      <td>223500</td>\n",
       "    </tr>\n",
       "    <tr>\n",
       "      <th>3</th>\n",
       "      <td>4</td>\n",
       "      <td>70</td>\n",
       "      <td>RL</td>\n",
       "      <td>60.0</td>\n",
       "      <td>9550</td>\n",
       "      <td>Pave</td>\n",
       "      <td>NaN</td>\n",
       "      <td>IR1</td>\n",
       "      <td>Lvl</td>\n",
       "      <td>AllPub</td>\n",
       "      <td>...</td>\n",
       "      <td>0</td>\n",
       "      <td>NaN</td>\n",
       "      <td>NaN</td>\n",
       "      <td>NaN</td>\n",
       "      <td>0</td>\n",
       "      <td>2</td>\n",
       "      <td>2006</td>\n",
       "      <td>WD</td>\n",
       "      <td>Abnorml</td>\n",
       "      <td>140000</td>\n",
       "    </tr>\n",
       "    <tr>\n",
       "      <th>4</th>\n",
       "      <td>5</td>\n",
       "      <td>60</td>\n",
       "      <td>RL</td>\n",
       "      <td>84.0</td>\n",
       "      <td>14260</td>\n",
       "      <td>Pave</td>\n",
       "      <td>NaN</td>\n",
       "      <td>IR1</td>\n",
       "      <td>Lvl</td>\n",
       "      <td>AllPub</td>\n",
       "      <td>...</td>\n",
       "      <td>0</td>\n",
       "      <td>NaN</td>\n",
       "      <td>NaN</td>\n",
       "      <td>NaN</td>\n",
       "      <td>0</td>\n",
       "      <td>12</td>\n",
       "      <td>2008</td>\n",
       "      <td>WD</td>\n",
       "      <td>Normal</td>\n",
       "      <td>250000</td>\n",
       "    </tr>\n",
       "  </tbody>\n",
       "</table>\n",
       "<p>5 rows × 81 columns</p>\n",
       "</div>"
      ],
      "text/plain": [
       "   Id  MSSubClass MSZoning  LotFrontage  LotArea Street Alley LotShape  \\\n",
       "0   1          60       RL         65.0     8450   Pave   NaN      Reg   \n",
       "1   2          20       RL         80.0     9600   Pave   NaN      Reg   \n",
       "2   3          60       RL         68.0    11250   Pave   NaN      IR1   \n",
       "3   4          70       RL         60.0     9550   Pave   NaN      IR1   \n",
       "4   5          60       RL         84.0    14260   Pave   NaN      IR1   \n",
       "\n",
       "  LandContour Utilities  ... PoolArea PoolQC Fence MiscFeature MiscVal MoSold  \\\n",
       "0         Lvl    AllPub  ...        0    NaN   NaN         NaN       0      2   \n",
       "1         Lvl    AllPub  ...        0    NaN   NaN         NaN       0      5   \n",
       "2         Lvl    AllPub  ...        0    NaN   NaN         NaN       0      9   \n",
       "3         Lvl    AllPub  ...        0    NaN   NaN         NaN       0      2   \n",
       "4         Lvl    AllPub  ...        0    NaN   NaN         NaN       0     12   \n",
       "\n",
       "  YrSold  SaleType  SaleCondition  SalePrice  \n",
       "0   2008        WD         Normal     208500  \n",
       "1   2007        WD         Normal     181500  \n",
       "2   2008        WD         Normal     223500  \n",
       "3   2006        WD        Abnorml     140000  \n",
       "4   2008        WD         Normal     250000  \n",
       "\n",
       "[5 rows x 81 columns]"
      ]
     },
     "execution_count": 47,
     "metadata": {},
     "output_type": "execute_result"
    }
   ],
   "source": [
    "# import data no 1 - 4\n",
    "\n",
    "data = pd.read_csv('train.csv')\n",
    "data.head()"
   ]
  },
  {
   "cell_type": "code",
   "execution_count": 48,
   "id": "44c17457-6c5c-4d7f-a8b2-d13f630b37d7",
   "metadata": {},
   "outputs": [
    {
     "data": {
      "text/plain": [
       "array([2006, 2007, 2008, 2009, 2010], dtype=int64)"
      ]
     },
     "execution_count": 48,
     "metadata": {},
     "output_type": "execute_result"
    }
   ],
   "source": [
    "np.sort(data['YrSold'].unique())"
   ]
  },
  {
   "cell_type": "markdown",
   "id": "a72af4f0-b2d1-41e2-9d85-8b240562e93e",
   "metadata": {},
   "source": [
    "## Descriptive statistical analysis"
   ]
  },
  {
   "cell_type": "markdown",
   "id": "82016fb2-3f2d-451b-b293-3cdff9c36180",
   "metadata": {},
   "source": [
    "### Problem 1"
   ]
  },
  {
   "cell_type": "markdown",
   "id": "32ce2773-a1fb-4c9c-a2b4-8037db1c27a5",
   "metadata": {},
   "source": [
    "Tunjukkan statistika deskriptif untuk variabel harga rumah "
   ]
  },
  {
   "cell_type": "code",
   "execution_count": 49,
   "id": "aa5fa887-0fdd-49e9-9a77-710f629c523e",
   "metadata": {},
   "outputs": [
    {
     "name": "stdout",
     "output_type": "stream",
     "text": [
      "Mean = 180921.19589041095\n",
      "Median = 163000.0\n",
      "Modus = 140000\n",
      "Q1 = 129975.0\n",
      "Q3 = 214000.0\n"
     ]
    }
   ],
   "source": [
    "# ukuran pemusatan\n",
    "\n",
    "mean = data['SalePrice'].mean()\n",
    "median = data['SalePrice'].median()\n",
    "modus = stat.mode(data['SalePrice'])\n",
    "q1 = data['SalePrice'].quantile(0.25)\n",
    "q3 = data['SalePrice'].quantile(0.75)\n",
    "\n",
    "print('Mean =', mean)\n",
    "print('Median =', median)\n",
    "print('Modus =', modus)\n",
    "print('Q1 =', q1)\n",
    "print('Q3 =', q3)"
   ]
  },
  {
   "cell_type": "markdown",
   "id": "ad2fb369-afe6-419c-965d-4d35345d3a6e",
   "metadata": {},
   "source": [
    "Harga rata-rata penjualan rumah dari tahun 2016 hingga tahun 2010 adalah 180921.19, dengan rumah terjual paling banyak ada di harga 140000 dan titik tengah atau median dari harga penjualan rumah berada di harga 163000.0\n",
    "\n",
    "Untuk nilai kuartil 1 adalah 129975.0 yang berarti 25% data harag penjualan rumah berada di bawah 129975.0 dan 75% data sisanya berada di atas 129975.0. Untuk nilai kuartil 3 adalah 214000.0 yang berarti 25% data rumah terjual di atas harga 214000.0 dan 75% data sisanya di bawah 214000.0"
   ]
  },
  {
   "cell_type": "code",
   "execution_count": 50,
   "id": "9ad5eddb-70a3-4b5b-9d99-93f74d612b58",
   "metadata": {},
   "outputs": [
    {
     "name": "stdout",
     "output_type": "stream",
     "text": [
      "Range/Jangkauan = 720100\n",
      "Variance = 6311111264.297451\n",
      "Standard Deviation = 79442.50288288663\n",
      "Interquartile = 720100\n"
     ]
    }
   ],
   "source": [
    "# ukuran penyebaran\n",
    "\n",
    "jangkauan = data['SalePrice'].max() - data['SalePrice'].min()\n",
    "var = data['SalePrice'].var()\n",
    "std = data['SalePrice'].std()\n",
    "iqr = q3 - q1\n",
    "\n",
    "print('Range/Jangkauan =', jangkauan)\n",
    "print('Variance =', var)\n",
    "print('Standard Deviation =', std)\n",
    "print('Interquartile =', jangkauan)"
   ]
  },
  {
   "cell_type": "markdown",
   "id": "cd0a49d3-3e13-4a09-82be-f825594bdf69",
   "metadata": {},
   "source": [
    "Untuk jangkauan harga penjualan rumah dari tahun 2006 sampai 2010 berada di 720100. Jika melihat nilai variance dan standard deviasinya yaitu 6311111264.29 dan 79442.502 maka dapat dikatakan bahwa penyebaran data harga penjualan rumah ini cukup jauh dari rata-ratanya atau data cukup menyebar tidak berada di sekitar rata-ratanya. Dari nilai jangkauan yang besar pun hal ini cukup terlihat bahwa data memang sangat menyebar. \n",
    "\n",
    "Dari hasil ukuran penyebaran data terlihat pula bahwa range/jangkauan data sama dengan jangkauan antarkuartilnya (interquartile) yang berarti penyebaran atau distribusi data relatif simetris"
   ]
  },
  {
   "cell_type": "markdown",
   "id": "1d0c2780-d88a-415e-b71f-9b6f062980f2",
   "metadata": {},
   "source": [
    "### Problem 2"
   ]
  },
  {
   "cell_type": "markdown",
   "id": "81856643-6075-4dd9-a20b-d0943d26c944",
   "metadata": {},
   "source": [
    "Tunjukkan statistika deskriptif untuk variabel harga rumah setiap tahunnya"
   ]
  },
  {
   "cell_type": "code",
   "execution_count": 51,
   "id": "c49dc36e-bf34-486c-a6c8-061d1e835222",
   "metadata": {},
   "outputs": [],
   "source": [
    "# mendefinisikan fungsi q1, q3, modus, range, interquartile\n",
    "\n",
    "def quartile1(x):\n",
    "    return x.quantile(0.25)\n",
    "\n",
    "def quartile3(x):\n",
    "    return x.quantile(0.75)\n",
    "\n",
    "def modus(x):\n",
    "    return stat.mode(x)\n",
    "\n",
    "def jangkauan(x):\n",
    "    return x.max() - x.min()\n",
    "\n",
    "def iqr(x):\n",
    "    return quartile3(x) - quartile1(x)"
   ]
  },
  {
   "cell_type": "code",
   "execution_count": 52,
   "id": "487dda49-13a8-4709-a4a4-3e6a235d2a81",
   "metadata": {},
   "outputs": [
    {
     "data": {
      "text/html": [
       "<div>\n",
       "<style scoped>\n",
       "    .dataframe tbody tr th:only-of-type {\n",
       "        vertical-align: middle;\n",
       "    }\n",
       "\n",
       "    .dataframe tbody tr th {\n",
       "        vertical-align: top;\n",
       "    }\n",
       "\n",
       "    .dataframe thead th {\n",
       "        text-align: right;\n",
       "    }\n",
       "</style>\n",
       "<table border=\"1\" class=\"dataframe\">\n",
       "  <thead>\n",
       "    <tr style=\"text-align: right;\">\n",
       "      <th></th>\n",
       "      <th>Year</th>\n",
       "      <th>Mean</th>\n",
       "      <th>Median</th>\n",
       "      <th>Modus</th>\n",
       "      <th>Q1</th>\n",
       "      <th>Q3</th>\n",
       "      <th>Range</th>\n",
       "      <th>Variance</th>\n",
       "      <th>Standard Deviation</th>\n",
       "      <th>Interquartile</th>\n",
       "    </tr>\n",
       "  </thead>\n",
       "  <tbody>\n",
       "    <tr>\n",
       "      <th>0</th>\n",
       "      <td>2006</td>\n",
       "      <td>182549.458599</td>\n",
       "      <td>163995.0</td>\n",
       "      <td>140000</td>\n",
       "      <td>131375.0</td>\n",
       "      <td>218782.5</td>\n",
       "      <td>589689</td>\n",
       "      <td>6.308623e+09</td>\n",
       "      <td>79426.838855</td>\n",
       "      <td>87407.5</td>\n",
       "    </tr>\n",
       "    <tr>\n",
       "      <th>1</th>\n",
       "      <td>2007</td>\n",
       "      <td>186063.151976</td>\n",
       "      <td>167000.0</td>\n",
       "      <td>144000</td>\n",
       "      <td>129900.0</td>\n",
       "      <td>219500.0</td>\n",
       "      <td>715700</td>\n",
       "      <td>7.356179e+09</td>\n",
       "      <td>85768.171410</td>\n",
       "      <td>89600.0</td>\n",
       "    </tr>\n",
       "    <tr>\n",
       "      <th>2</th>\n",
       "      <td>2008</td>\n",
       "      <td>177360.838816</td>\n",
       "      <td>164000.0</td>\n",
       "      <td>140000</td>\n",
       "      <td>131250.0</td>\n",
       "      <td>207000.0</td>\n",
       "      <td>406261</td>\n",
       "      <td>4.863055e+09</td>\n",
       "      <td>69735.610685</td>\n",
       "      <td>75750.0</td>\n",
       "    </tr>\n",
       "    <tr>\n",
       "      <th>3</th>\n",
       "      <td>2009</td>\n",
       "      <td>179432.103550</td>\n",
       "      <td>162000.0</td>\n",
       "      <td>110000</td>\n",
       "      <td>125250.0</td>\n",
       "      <td>212750.0</td>\n",
       "      <td>548033</td>\n",
       "      <td>6.541451e+09</td>\n",
       "      <td>80879.237311</td>\n",
       "      <td>87500.0</td>\n",
       "    </tr>\n",
       "    <tr>\n",
       "      <th>4</th>\n",
       "      <td>2010</td>\n",
       "      <td>177393.674286</td>\n",
       "      <td>155000.0</td>\n",
       "      <td>140000</td>\n",
       "      <td>128100.0</td>\n",
       "      <td>213250.0</td>\n",
       "      <td>556657</td>\n",
       "      <td>6.472408e+09</td>\n",
       "      <td>80451.280085</td>\n",
       "      <td>85150.0</td>\n",
       "    </tr>\n",
       "  </tbody>\n",
       "</table>\n",
       "</div>"
      ],
      "text/plain": [
       "   Year           Mean    Median   Modus        Q1        Q3   Range  \\\n",
       "0  2006  182549.458599  163995.0  140000  131375.0  218782.5  589689   \n",
       "1  2007  186063.151976  167000.0  144000  129900.0  219500.0  715700   \n",
       "2  2008  177360.838816  164000.0  140000  131250.0  207000.0  406261   \n",
       "3  2009  179432.103550  162000.0  110000  125250.0  212750.0  548033   \n",
       "4  2010  177393.674286  155000.0  140000  128100.0  213250.0  556657   \n",
       "\n",
       "       Variance  Standard Deviation  Interquartile  \n",
       "0  6.308623e+09        79426.838855        87407.5  \n",
       "1  7.356179e+09        85768.171410        89600.0  \n",
       "2  4.863055e+09        69735.610685        75750.0  \n",
       "3  6.541451e+09        80879.237311        87500.0  \n",
       "4  6.472408e+09        80451.280085        85150.0  "
      ]
     },
     "execution_count": 52,
     "metadata": {},
     "output_type": "execute_result"
    }
   ],
   "source": [
    "# melakukan agregasi untuk mendapatkan ukuran penyebaran dan pemusatan pertahun\n",
    "agg = {'SalePrice' : ['mean', 'median', modus, quartile1, quartile3, jangkauan, 'var', 'std', iqr]}\n",
    "data_tahun = data[['YrSold', 'SalePrice']].groupby('YrSold').agg(agg).reset_index()\n",
    "data_tahun.columns = ['Year', 'Mean', 'Median', 'Modus', 'Q1', 'Q3', 'Range', 'Variance', 'Standard Deviation', 'Interquartile']\n",
    "data_tahun"
   ]
  },
  {
   "cell_type": "markdown",
   "id": "d5027220-eeab-4963-855d-e937cf547c25",
   "metadata": {},
   "source": [
    "- Rata-rata harga setiap tahunnya mengalami perubahan. Tahun 2006 dan 2007 perubahan yang dialami cenderung tidak terlalu besar, begitupun antara tahun 2008 hingga 2010 yang perubahannya tidak terlalu besar. Terjadi perubahan harga yang cukup terlihat yaitu antara tahun 2006-2007 dan 2008-2010\n",
    "- Median dari data tiap tahunnya relatif mirip kecuali pada tahun 2010 yang cukup berbeda dibandingkan dengan tahun lainnya dimana pada tahun 2010 itu mediannya lebih kecil\n",
    "- Untuk modus atau harga rumah terjual paling banyak itu setiap tahunnya relatif sama dan nilai ini sama dengan modus untuk keseluruhan data (jawaban no 1) kecuali pada tahun 2009 yang cukup berbeda\n",
    "- Nilai Q1 dan Q3 setiap tahunnya relatif sama dengan perbedaan yang tidak begitu besar\n",
    "- Jangkauan data dari masing-masing tahun cukup beragam\n",
    "- Nilai variance dan stnadar deviasi setiap tahunnya hampir sama dan nilainya cukup besar sehingga dapat dikatakan bahwa penyebaran data di setiap tahunnya cukup menyebar dan jauh dari nilai rata-ratanya\n",
    "- Berbeda dengan jangkauan, nilai interquartile di setiap tahunnya ini relatif sama"
   ]
  },
  {
   "cell_type": "markdown",
   "id": "53871205-b600-4070-ac77-d40fbeb8d0b6",
   "metadata": {},
   "source": [
    "### Problem 3"
   ]
  },
  {
   "cell_type": "markdown",
   "id": "7f8f27bb-e824-4b1e-9013-7b73ea234f1b",
   "metadata": {},
   "source": [
    "Bagaimana distribusi harga rumah tersebut. Gunakan histogram plot \n",
    "tidak terbatas hanya histogram saja. Jelaskan sebaiknya untuk \n",
    "analisa apakah lebih baik menggunakan mean atau menggunakan \n",
    "median?"
   ]
  },
  {
   "cell_type": "code",
   "execution_count": 53,
   "id": "111369e8-9f58-4cf9-8337-8c1c0cc8c8e4",
   "metadata": {},
   "outputs": [
    {
     "data": {
      "image/png": "[encoded data removed]",
      "text/plain": [
       "<Figure size 640x480 with 1 Axes>"
      ]
     },
     "metadata": {},
     "output_type": "display_data"
    }
   ],
   "source": [
    "# histogram kolom SalePrice\n",
    "\n",
    "plt.hist(data['SalePrice'])\n",
    "plt.show()"
   ]
  },
  {
   "cell_type": "markdown",
   "id": "24bdbb19-94e4-4419-a5e6-6009e004f159",
   "metadata": {},
   "source": [
    "Distribusi harga rumah cenderung membentuk distribusi yang **positively skewed**. Pada bentuk distribusi ini modus berada pada harga yang relatif rendah dan jika ada outlier itu berada di harga yang tinggi sekali. Pada distribusi ini nilai median lebih kecil dibandingkan rata-ratanya. Untuk membuktikan hal ini di bagian selanjutnya akan dihitung nilai median dan rata-ratanya"
   ]
  },
  {
   "cell_type": "code",
   "execution_count": 54,
   "id": "c540ba6c-a2c8-4032-85cd-ec3e85713cab",
   "metadata": {},
   "outputs": [
    {
     "name": "stdout",
     "output_type": "stream",
     "text": [
      "Mean : 180921.19589041095\n",
      "Median : 163000.0\n"
     ]
    }
   ],
   "source": [
    "# mendapatkan mean dan median data\n",
    "\n",
    "x = data['SalePrice']\n",
    "\n",
    "print('Mean :', x.mean())\n",
    "print('Median :', x.median())"
   ]
  },
  {
   "cell_type": "markdown",
   "id": "5188fb5d-e6a6-460a-9f07-24d1bce0328e",
   "metadata": {},
   "source": [
    "Terbukti memang nilai median lebih kecil dari nilai rata-ratanya"
   ]
  },
  {
   "cell_type": "markdown",
   "id": "3bbde82e-6669-462a-9f8f-9aeb54aad312",
   "metadata": {},
   "source": [
    "Untuk analisa data yang memiliki distribusi positively skewed ini lebih cocok menggunakan median dibandingkan dengan rata-rata. Karena distribusi ini memiliki ekor yang lebih panjang di sebelah kanan dan data lebih banyak terpusat di sebelah kiri maka akan menyebabkan nilai rata-rata lebih terpengaruh oleh outlier yang akan muncul di bagian ekor. Berbeda dengan median yang memang cukup robust atau tidak terpengaruh oleh outlier sehingga lebih menggambarkan ukuran pusat data"
   ]
  },
  {
   "cell_type": "markdown",
   "id": "edd16a85-10e4-4288-85d2-66467b72b105",
   "metadata": {},
   "source": [
    "### Problem 4"
   ]
  },
  {
   "cell_type": "markdown",
   "id": "a9d09545-e3e7-4a49-8171-c3f5cf21c698",
   "metadata": {},
   "source": [
    "Buktikan pernyataan bahwa **setiap tahunnya harga \n",
    "rumah itu pasti naik**"
   ]
  },
  {
   "cell_type": "markdown",
   "id": "bc9567ab-9cb3-4ceb-980e-0168dd78c87a",
   "metadata": {},
   "source": [
    "**Menentukan hipotesis**\n",
    "- H0 : Rata-rata harga rumah setiap tahunnya relatif sama dan tidak ada perbedaan\n",
    "- H1 : Rata-rata harga rumah setiap tahunnya berbeda (harga mengalami perubahan)"
   ]
  },
  {
   "cell_type": "code",
   "execution_count": 55,
   "id": "6b2f7feb-cb78-40ae-b019-6c54273cfd84",
   "metadata": {},
   "outputs": [
    {
     "data": {
      "text/plain": [
       "YrSold\n",
       "2006    182549.458599\n",
       "2007    186063.151976\n",
       "2008    177360.838816\n",
       "2009    179432.103550\n",
       "2010    177393.674286\n",
       "Name: SalePrice, dtype: float64"
      ]
     },
     "execution_count": 55,
     "metadata": {},
     "output_type": "execute_result"
    }
   ],
   "source": [
    "# menghitung harga rata-rata rumah tiap tahun\n",
    "\n",
    "data_mean = data.groupby('YrSold')['SalePrice'].mean()\n",
    "data_mean"
   ]
  },
  {
   "cell_type": "markdown",
   "id": "3f64c757-807d-4e97-be14-e5c047bf32c8",
   "metadata": {},
   "source": [
    "Jika melihat harga rata-rata rumah setiap tahunnya dari data di atas maka ada yang mengalami perubahan dan ada pula yang cenderung tidak berubah harganya"
   ]
  },
  {
   "cell_type": "code",
   "execution_count": 56,
   "id": "3bc95cd7-7007-4558-b049-e3c222fb7541",
   "metadata": {},
   "outputs": [],
   "source": [
    "# membagi data untuk setiap tahun\n",
    "\n",
    "year_2006 = data[data['YrSold'] == 2006]\n",
    "year_2007 = data[data['YrSold'] == 2007]\n",
    "year_2008 = data[data['YrSold'] == 2008]\n",
    "year_2009 = data[data['YrSold'] == 2009]\n",
    "year_2010 = data[data['YrSold'] == 2010]"
   ]
  },
  {
   "cell_type": "code",
   "execution_count": 57,
   "id": "7107ebc4-11b2-4b0e-bd62-8d49a0d5a452",
   "metadata": {},
   "outputs": [],
   "source": [
    "# pengujian dengan metode anova\n",
    "\n",
    "anova_test = st.f_oneway(year_2006['SalePrice'],\n",
    "                         year_2007['SalePrice'],\n",
    "                         year_2008['SalePrice'],\n",
    "                         year_2009['SalePrice'],\n",
    "                         year_2010['SalePrice'])"
   ]
  },
  {
   "cell_type": "code",
   "execution_count": 58,
   "id": "1a22318d-7af9-4a4e-b526-ee312992374b",
   "metadata": {},
   "outputs": [
    {
     "name": "stdout",
     "output_type": "stream",
     "text": [
      "p-value = 0.6300887663573457\n",
      "Tidak cukup bukti untuk mengatakan bahwa rata-rata harga rumah setiap tahunnya berbeda\n"
     ]
    }
   ],
   "source": [
    "# hasil pengujian hipotesis\n",
    "\n",
    "pvalue = anova_test.pvalue \n",
    "\n",
    "print('p-value =', pvalue)\n",
    "\n",
    "if pvalue >= 0.05:\n",
    "  print('Tidak cukup bukti untuk mengatakan bahwa rata-rata harga rumah setiap tahunnya berbeda')\n",
    "else:\n",
    "  print('Cukup bukti untuk mengatakan bahwa rata-rata harga rumah setiap tahunnya berbeda')"
   ]
  },
  {
   "cell_type": "markdown",
   "id": "458a4783-b37b-4ed6-b2c1-b0c86a8ade07",
   "metadata": {},
   "source": [
    "Dari hasil pengujian hipotesis yang dilakukan, didapatkan bahwa tidak cukup bukti untuk mengatakan bahwa rata-rata harga rumah setiap tahunnya itu berbeda. Pernyataan bahwa setiap tahunnya harga rumah pasti naik itu tidak terbukti karena pada kenyataannya rata-rata harga setiap rumah cenderung sama. Perbedaan yang terjadi tidak cukup signifikan untuk mengatakan adanya perubahan harga"
   ]
  },
  {
   "cell_type": "markdown",
   "id": "5b212a49-be3a-428e-8ebd-ef135233e1cb",
   "metadata": {},
   "source": [
    "## A/B Testing"
   ]
  },
  {
   "cell_type": "markdown",
   "id": "d91c4a73-2a72-49bb-9463-6420b21f4bd6",
   "metadata": {},
   "source": [
    "Menganalisa hasil ab-testing suatu perusahaan bank. Apakah \n",
    "jumlah campaign mampu meningkatkan keinginan user untuk \n",
    "membuka akun deposit atau tidak?"
   ]
  },
  {
   "cell_type": "code",
   "execution_count": 59,
   "id": "1bb2c3b8-fe87-4950-ba01-c00e27b99fd2",
   "metadata": {},
   "outputs": [
    {
     "data": {
      "text/html": [
       "<div>\n",
       "<style scoped>\n",
       "    .dataframe tbody tr th:only-of-type {\n",
       "        vertical-align: middle;\n",
       "    }\n",
       "\n",
       "    .dataframe tbody tr th {\n",
       "        vertical-align: top;\n",
       "    }\n",
       "\n",
       "    .dataframe thead th {\n",
       "        text-align: right;\n",
       "    }\n",
       "</style>\n",
       "<table border=\"1\" class=\"dataframe\">\n",
       "  <thead>\n",
       "    <tr style=\"text-align: right;\">\n",
       "      <th></th>\n",
       "      <th>age</th>\n",
       "      <th>job</th>\n",
       "      <th>marital</th>\n",
       "      <th>education</th>\n",
       "      <th>default</th>\n",
       "      <th>balance</th>\n",
       "      <th>housing</th>\n",
       "      <th>loan</th>\n",
       "      <th>contact</th>\n",
       "      <th>day</th>\n",
       "      <th>month</th>\n",
       "      <th>duration</th>\n",
       "      <th>campaign</th>\n",
       "      <th>pdays</th>\n",
       "      <th>previous</th>\n",
       "      <th>poutcome</th>\n",
       "      <th>y</th>\n",
       "    </tr>\n",
       "  </thead>\n",
       "  <tbody>\n",
       "    <tr>\n",
       "      <th>0</th>\n",
       "      <td>58</td>\n",
       "      <td>management</td>\n",
       "      <td>married</td>\n",
       "      <td>tertiary</td>\n",
       "      <td>no</td>\n",
       "      <td>2143</td>\n",
       "      <td>yes</td>\n",
       "      <td>no</td>\n",
       "      <td>unknown</td>\n",
       "      <td>5</td>\n",
       "      <td>may</td>\n",
       "      <td>261</td>\n",
       "      <td>1</td>\n",
       "      <td>-1</td>\n",
       "      <td>0</td>\n",
       "      <td>unknown</td>\n",
       "      <td>no</td>\n",
       "    </tr>\n",
       "    <tr>\n",
       "      <th>1</th>\n",
       "      <td>44</td>\n",
       "      <td>technician</td>\n",
       "      <td>single</td>\n",
       "      <td>secondary</td>\n",
       "      <td>no</td>\n",
       "      <td>29</td>\n",
       "      <td>yes</td>\n",
       "      <td>no</td>\n",
       "      <td>unknown</td>\n",
       "      <td>5</td>\n",
       "      <td>may</td>\n",
       "      <td>151</td>\n",
       "      <td>1</td>\n",
       "      <td>-1</td>\n",
       "      <td>0</td>\n",
       "      <td>unknown</td>\n",
       "      <td>no</td>\n",
       "    </tr>\n",
       "    <tr>\n",
       "      <th>2</th>\n",
       "      <td>33</td>\n",
       "      <td>entrepreneur</td>\n",
       "      <td>married</td>\n",
       "      <td>secondary</td>\n",
       "      <td>no</td>\n",
       "      <td>2</td>\n",
       "      <td>yes</td>\n",
       "      <td>yes</td>\n",
       "      <td>unknown</td>\n",
       "      <td>5</td>\n",
       "      <td>may</td>\n",
       "      <td>76</td>\n",
       "      <td>1</td>\n",
       "      <td>-1</td>\n",
       "      <td>0</td>\n",
       "      <td>unknown</td>\n",
       "      <td>no</td>\n",
       "    </tr>\n",
       "    <tr>\n",
       "      <th>3</th>\n",
       "      <td>47</td>\n",
       "      <td>blue-collar</td>\n",
       "      <td>married</td>\n",
       "      <td>unknown</td>\n",
       "      <td>no</td>\n",
       "      <td>1506</td>\n",
       "      <td>yes</td>\n",
       "      <td>no</td>\n",
       "      <td>unknown</td>\n",
       "      <td>5</td>\n",
       "      <td>may</td>\n",
       "      <td>92</td>\n",
       "      <td>1</td>\n",
       "      <td>-1</td>\n",
       "      <td>0</td>\n",
       "      <td>unknown</td>\n",
       "      <td>no</td>\n",
       "    </tr>\n",
       "    <tr>\n",
       "      <th>4</th>\n",
       "      <td>33</td>\n",
       "      <td>unknown</td>\n",
       "      <td>single</td>\n",
       "      <td>unknown</td>\n",
       "      <td>no</td>\n",
       "      <td>1</td>\n",
       "      <td>no</td>\n",
       "      <td>no</td>\n",
       "      <td>unknown</td>\n",
       "      <td>5</td>\n",
       "      <td>may</td>\n",
       "      <td>198</td>\n",
       "      <td>1</td>\n",
       "      <td>-1</td>\n",
       "      <td>0</td>\n",
       "      <td>unknown</td>\n",
       "      <td>no</td>\n",
       "    </tr>\n",
       "  </tbody>\n",
       "</table>\n",
       "</div>"
      ],
      "text/plain": [
       "   age           job  marital  education default  balance housing loan  \\\n",
       "0   58    management  married   tertiary      no     2143     yes   no   \n",
       "1   44    technician   single  secondary      no       29     yes   no   \n",
       "2   33  entrepreneur  married  secondary      no        2     yes  yes   \n",
       "3   47   blue-collar  married    unknown      no     1506     yes   no   \n",
       "4   33       unknown   single    unknown      no        1      no   no   \n",
       "\n",
       "   contact  day month  duration  campaign  pdays  previous poutcome   y  \n",
       "0  unknown    5   may       261         1     -1         0  unknown  no  \n",
       "1  unknown    5   may       151         1     -1         0  unknown  no  \n",
       "2  unknown    5   may        76         1     -1         0  unknown  no  \n",
       "3  unknown    5   may        92         1     -1         0  unknown  no  \n",
       "4  unknown    5   may       198         1     -1         0  unknown  no  "
      ]
     },
     "execution_count": 59,
     "metadata": {},
     "output_type": "execute_result"
    }
   ],
   "source": [
    "# read dataset\n",
    "\n",
    "df = pd.read_csv('bank-full.csv', sep=';')\n",
    "df.head()"
   ]
  },
  {
   "cell_type": "markdown",
   "id": "2fe44817-2079-4f03-87f5-b69417760be2",
   "metadata": {},
   "source": [
    "- **Nama experiment** : A/B testing pengaruh jumlah campaign terhadap keputusan membuka akun deposit\n",
    "\n",
    "- **Hipotesis** : Semakin banyak jumlah campaign maka akan semakin meningkatkan keinginan user untuk membuka akun deposit\n",
    "\n",
    "- **Participant** : Nasabah bank yang menerima campaign\n",
    "\n",
    "- **Variabel yang akan diuji** : Jumlah campaign (campaign) dan keputusan user akhirnya membuka akun deposit atau tidak (y)"
   ]
  },
  {
   "cell_type": "markdown",
   "id": "c6c905bd-ba27-486c-9a40-b1ed299bae4a",
   "metadata": {},
   "source": [
    "**Metrics yang digunakan**\n",
    "- Macroconversions : Banyaknya user yang membuka akun deposit setelah menerima campaign\n",
    "- Microconversions : menolak campaign\n",
    "- Vanity metrics : Jenis campaign yang diberikan, banyaknya campaign yang disebar "
   ]
  },
  {
   "cell_type": "markdown",
   "id": "51c50840-f565-42bf-a805-cfc6e000b1db",
   "metadata": {},
   "source": [
    "**Sample size**"
   ]
  },
  {
   "cell_type": "code",
   "execution_count": 60,
   "id": "b7e90db9-42e3-4f32-ac6e-28895db57836",
   "metadata": {},
   "outputs": [
    {
     "name": "stdout",
     "output_type": "stream",
     "text": [
      "Berdasarkan rumus slovin, didapat ukuran sample sebesar 396.4920742803271\n"
     ]
    }
   ],
   "source": [
    "# mencari ukuran sampel dengan rumus slovin\n",
    "\n",
    "N = df.shape[0]\n",
    "e = 0.05\n",
    "n = N / (1+N*e**2)\n",
    "\n",
    "print('Berdasarkan rumus slovin, didapat ukuran sample sebesar', n)"
   ]
  },
  {
   "cell_type": "markdown",
   "id": "f45e8649-4814-4b71-ad9b-6055310649e2",
   "metadata": {},
   "source": [
    "**Penentuan Hipotesis**\n",
    "- H0 : Jumlah campaign tidak memengaruhi user untuk membuka akun deposit\n",
    "- H1 : Jumlah campaign memengaruhi user untuk membuka akun deposit"
   ]
  },
  {
   "cell_type": "code",
   "execution_count": 62,
   "id": "79634fe6-8abf-4804-9487-3b066b0596eb",
   "metadata": {},
   "outputs": [],
   "source": [
    "# memisahkan data untuk yang membuka akun deposit dan tidak\n",
    "\n",
    "open_deposit = df[df['y'] == 'yes']\n",
    "not_open_deposit = df[df['y'] == 'no']"
   ]
  },
  {
   "cell_type": "code",
   "execution_count": 63,
   "id": "45eca8da-06a0-47a4-9d8a-a35d6a09aff9",
   "metadata": {},
   "outputs": [
    {
     "data": {
      "text/plain": [
       "MannwhitneyuResult(statistic=90300543.5, pvalue=1.9484904873905108e-71)"
      ]
     },
     "execution_count": 63,
     "metadata": {},
     "output_type": "execute_result"
    }
   ],
   "source": [
    "# pengujian dengan Mann-Whitney U test\n",
    "\n",
    "mannwhitneyu_test = st.mannwhitneyu(open_deposit['campaign'],\n",
    "                                    not_open_deposit['campaign'])\n",
    "mannwhitneyu_test"
   ]
  },
  {
   "cell_type": "code",
   "execution_count": 64,
   "id": "b59b42a8-4855-4619-aa18-5fe4baad160d",
   "metadata": {},
   "outputs": [
    {
     "data": {
      "image/png": "[encoded data removed]",
      "text/plain": [
       "<Figure size 640x480 with 1 Axes>"
      ]
     },
     "metadata": {},
     "output_type": "display_data"
    }
   ],
   "source": [
    "# histogram kolom campaign\n",
    "\n",
    "plt.hist(df['campaign'])\n",
    "plt.xlim(0,70)\n",
    "plt.show()"
   ]
  },
  {
   "cell_type": "markdown",
   "id": "d885fd0a-47a8-4c48-9bd4-729352879f51",
   "metadata": {},
   "source": [
    "Dari histogram di atas terlihat distribusi jumlah campaign itu cenderung positively skewed dengan data banyak berpusat di sebelah kiri"
   ]
  },
  {
   "cell_type": "code",
   "execution_count": 65,
   "id": "bee3dc92-c253-4ef8-9397-bc4e8255a795",
   "metadata": {},
   "outputs": [
    {
     "data": {
      "text/plain": [
       "y\n",
       "no     2.846350\n",
       "yes    2.141047\n",
       "Name: campaign, dtype: float64"
      ]
     },
     "execution_count": 65,
     "metadata": {},
     "output_type": "execute_result"
    }
   ],
   "source": [
    "# menghitung rata-rata campaign yang diterima untuk setiap keputusan membuat akun deposit atau tidak\n",
    "\n",
    "df_mean = df.groupby('y')['campaign'].mean()\n",
    "df_mean"
   ]
  },
  {
   "cell_type": "code",
   "execution_count": 66,
   "id": "c8d27e2c-696a-4579-af36-c7dc9c0c452e",
   "metadata": {},
   "outputs": [
    {
     "data": {
      "text/plain": [
       "<function matplotlib.pyplot.show(close=None, block=None)>"
      ]
     },
     "execution_count": 66,
     "metadata": {},
     "output_type": "execute_result"
    },
    {
     "data": {
      "image/png": "[encoded data removed]",
      "text/plain": [
       "<Figure size 640x480 with 1 Axes>"
      ]
     },
     "metadata": {},
     "output_type": "display_data"
    }
   ],
   "source": [
    "# melakukan visualisasi rata-rata campaign yang diterima untuk setiap kelompok keputusan\n",
    "\n",
    "x = ['no','yes']\n",
    "y = df_mean\n",
    "\n",
    "plt.bar(x,y)\n",
    "plt.ylim(0,3)\n",
    "plt.show"
   ]
  },
  {
   "cell_type": "markdown",
   "id": "c108ccc8-b366-494b-a959-0e8f6254edaa",
   "metadata": {},
   "source": [
    "Jika melihat nilai rata-rata di atas, memang terdapat perbedaan rata-rata jumlah campaign yang diterima user antara kelompok yang akhirnya membuka akun deposit dan yang tidak. Perbedaan tersebut sebesar **0.7**. Perbedaannya cukup kecil, namun untuk melihat apakah perbedaan ini signifikan dalam memengaruhi keputusan user dalam membuka akkun deposit akan dilakukan pengujian hipotesis lebih lenjut secara statistik"
   ]
  },
  {
   "cell_type": "code",
   "execution_count": 67,
   "id": "b33a1033-ef8c-41ab-b488-7adc64aa8134",
   "metadata": {},
   "outputs": [
    {
     "name": "stdout",
     "output_type": "stream",
     "text": [
      "p-value = 1.9484904873905108e-71\n",
      "Cukup bukti untuk menyatakan bahwa jumlah campaign memengaruhi keputusan nasabah untuk membuka akun deposit\n"
     ]
    }
   ],
   "source": [
    "# mengecek pvalue dan batas error untuk mengambil keputusan\n",
    "p_value = mannwhitneyu_test.pvalue \n",
    "\n",
    "print('p-value =',p_value)\n",
    "\n",
    "if p_value >= 0.05:\n",
    "  print('Tidak cukup bukti untuk menyatakan bahwa jumlah campaign memengaruhi keputusan nasabah untuk membuka akun deposit')\n",
    "else:\n",
    "  print('Cukup bukti untuk menyatakan bahwa jumlah campaign memengaruhi keputusan nasabah untuk membuka akun deposit')"
   ]
  },
  {
   "cell_type": "markdown",
   "id": "c64c9f78-92eb-4f72-a739-336cbb982e6a",
   "metadata": {},
   "source": [
    "Dari hasil pengujian hipotesis yang dilakukan, didapatkan bahwa cukup bukti untuk mengatakan jumlah campaign memengaruhi keputusan user dalam membuka akun deposit. Pernyataan bahwa jumlah campaign mampu meningkatkan keinginan user untuk membuka akun deposit itu terbukti. Semakin banyak user menerima campaign maka semakin besar kemungkinan user tersebut untuk membuka akun deposit"
   ]
  }
 ],
 "metadata": {
  "kernelspec": {
   "display_name": "Python 3 (ipykernel)",
   "language": "python",
   "name": "python3"
  },
  "language_info": {
   "codemirror_mode": {
    "name": "ipython",
    "version": 3
   },
   "file_extension": ".py",
   "mimetype": "text/x-python",
   "name": "python",
   "nbconvert_exporter": "python",
   "pygments_lexer": "ipython3",
   "version": "3.9.13"
  }
 },
 "nbformat": 4,
 "nbformat_minor": 5
}
